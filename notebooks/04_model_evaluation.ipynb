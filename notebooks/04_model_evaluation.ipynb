{
 "cells": [
  {
   "cell_type": "code",
   "execution_count": null,
   "metadata": {},
   "outputs": [],
   "source": [
    "import pandas as pd\n",
    "from sklearn.metrics import mean_squared_error\n",
    "import joblib\n",
    "\n",
    "# Load preprocessed data and model\n",
    "data = pd.read_csv('data/preprocessed_air_quality_data.csv')\n",
    "model = joblib.load('models/random_forest_model.pkl')\n",
    "\n",
    "# Define features and target\n",
    "X = data.drop(columns=['AQI', 'AQI_Normalized', 'Date', 'Location'])\n",
    "y = data['AQI_Normalized']\n",
    "\n",
    "# Split the data\n",
    "_, X_test, _, y_test = train_test_split(X, y, test_size=0.2, random_state=42)\n",
    "\n",
    "# Make predictions\n",
    "y_pred = model.predict(X_test)\n",
    "\n",
    "# Evaluate the model\n",
    "mse = mean_squared_error(y_test, y_pred)\n",
    "print(f\"Mean Squared Error: {mse}\")\n"
   ]
  }
 ],
 "metadata": {
  "language_info": {
   "name": "python"
  }
 },
 "nbformat": 4,
 "nbformat_minor": 2
}
