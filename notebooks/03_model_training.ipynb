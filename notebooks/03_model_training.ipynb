{
 "cells": [
  {
   "cell_type": "code",
   "execution_count": null,
   "metadata": {},
   "outputs": [],
   "source": [
    "import pandas as pd\n",
    "from sklearn.model_selection import train_test_split\n",
    "from sklearn.ensemble import RandomForestRegressor\n",
    "from sklearn.,metrics import mean_absolute_error\n",
    "import joblib\n",
    "\n",
    "#Load the data\n",
    "data = pd.read_csv('data/preprocessed_air_quality_data.csv')\n",
    "\n",
    "#Define features and target\n",
    "x = data.drop(columns=['AQI', 'AQI_Normalized', 'Date', 'Location'])\n",
    "y = data['AQI_Normalized']\n",
    "\n",
    "#Split the data\n",
    "X_train, X_test, y_train, y_test = train_test_split(X, y, test_size=0.2, random_state=42)\n",
    "\n",
    "#Train the model\n",
    "model = RandomForestRegressor(n_estimators=100, random_state=42)\n",
    "model.fit(X_train, y_train)\n",
    "\n",
    "#Save the model\n",
    "joblib.dump(model, 'models/random_forest_model.pkl')"
   ]
  }
 ],
 "metadata": {
  "language_info": {
   "name": "python"
  }
 },
 "nbformat": 4,
 "nbformat_minor": 2
}
